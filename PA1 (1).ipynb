{
 "cells": [
  {
   "cell_type": "markdown",
   "id": "e7919070",
   "metadata": {},
   "source": [
    "# Programming Assignment 1 on Chapter 2\n",
    "### Ben Griffis\n",
    "### Computer Prog for Liberal Arts\n",
    "### CS-150-01"
   ]
  },
  {
   "cell_type": "code",
   "execution_count": 87,
   "id": "cf72cb24",
   "metadata": {
    "scrolled": true
   },
   "outputs": [
    {
     "name": "stdout",
     "output_type": "stream",
     "text": [
      "Enter a floating point number: 44.3\n"
     ]
    }
   ],
   "source": [
    "number=float(input(\"Enter a floating point number: \"))"
   ]
  },
  {
   "cell_type": "code",
   "execution_count": 88,
   "id": "21ec1b9f",
   "metadata": {},
   "outputs": [
    {
     "name": "stdout",
     "output_type": "stream",
     "text": [
      "Enter a integer: 16\n"
     ]
    }
   ],
   "source": [
    "number1=int(input(\"Enter a integer: \"))"
   ]
  },
  {
   "cell_type": "code",
   "execution_count": 89,
   "id": "ebaaa3ac",
   "metadata": {},
   "outputs": [
    {
     "name": "stdout",
     "output_type": "stream",
     "text": [
      "The sum is: 60.3\n"
     ]
    }
   ],
   "source": [
    "print(\"The sum is:\",number1+number)"
   ]
  },
  {
   "cell_type": "code",
   "execution_count": 90,
   "id": "ad544242",
   "metadata": {},
   "outputs": [
    {
     "name": "stdout",
     "output_type": "stream",
     "text": [
      "The difference is: 28.299999999999997\n"
     ]
    }
   ],
   "source": [
    "print(\"The difference is:\", number-number1)"
   ]
  },
  {
   "cell_type": "code",
   "execution_count": 91,
   "id": "1c2367cb",
   "metadata": {},
   "outputs": [
    {
     "name": "stdout",
     "output_type": "stream",
     "text": [
      "The product is: 708.8\n"
     ]
    }
   ],
   "source": [
    "print(\"The product is:\", number*number1)"
   ]
  },
  {
   "cell_type": "code",
   "execution_count": 92,
   "id": "b7099be3",
   "metadata": {},
   "outputs": [
    {
     "name": "stdout",
     "output_type": "stream",
     "text": [
      "The quotient is: 2.76875\n"
     ]
    }
   ],
   "source": [
    "print(\"The quotient is:\", number/number1)"
   ]
  },
  {
   "cell_type": "code",
   "execution_count": 95,
   "id": "7b81be3e",
   "metadata": {},
   "outputs": [
    {
     "name": "stdout",
     "output_type": "stream",
     "text": [
      "The type for the result is\n",
      "<class 'float'>\n"
     ]
    }
   ],
   "source": [
    "print(\"The type for the result is\")\n",
    "print(type(number/number1))"
   ]
  }
 ],
 "metadata": {
  "kernelspec": {
   "display_name": "Python 3 (ipykernel)",
   "language": "python",
   "name": "python3"
  },
  "language_info": {
   "codemirror_mode": {
    "name": "ipython",
    "version": 3
   },
   "file_extension": ".py",
   "mimetype": "text/x-python",
   "name": "python",
   "nbconvert_exporter": "python",
   "pygments_lexer": "ipython3",
   "version": "3.9.12"
  }
 },
 "nbformat": 4,
 "nbformat_minor": 5
}
